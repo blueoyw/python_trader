{
 "cells": [
  {
   "cell_type": "code",
   "execution_count": 3,
   "metadata": {
    "collapsed": false
   },
   "outputs": [
    {
     "name": "stderr",
     "output_type": "stream",
     "text": [
      "[2017-12-27 13:52:09,178] INFO     (Logger.py      ,  101) :   \n",
      "[2017-12-27 13:52:09,178] INFO     (Logger.py      ,  101) :   \n",
      "[2017-12-27 13:52:09,178] INFO     (Logger.py      ,  101) :   \n",
      "[2017-12-27 13:52:09,182] INFO     (Logger.py      ,  102) : ================================================================================ \n",
      "[2017-12-27 13:52:09,182] INFO     (Logger.py      ,  102) : ================================================================================ \n",
      "[2017-12-27 13:52:09,182] INFO     (Logger.py      ,  102) : ================================================================================ \n",
      "[2017-12-27 13:52:09,186] INFO     (Logger.py      ,  103) : \t### coinone robot Start!! ### \n",
      "[2017-12-27 13:52:09,186] INFO     (Logger.py      ,  103) : \t### coinone robot Start!! ### \n",
      "[2017-12-27 13:52:09,186] INFO     (Logger.py      ,  103) : \t### coinone robot Start!! ### \n",
      "[2017-12-27 13:52:09,189] INFO     (Logger.py      ,  104) : -------------------------------------------------------------------------------- \n",
      "[2017-12-27 13:52:09,189] INFO     (Logger.py      ,  104) : -------------------------------------------------------------------------------- \n",
      "[2017-12-27 13:52:09,189] INFO     (Logger.py      ,  104) : -------------------------------------------------------------------------------- \n",
      "[2017-12-27 13:52:09,192] INFO     (trade.py       ,   40) : start run \n",
      "[2017-12-27 13:52:09,192] INFO     (trade.py       ,   40) : start run \n",
      "[2017-12-27 13:52:09,192] INFO     (trade.py       ,   40) : start run \n"
     ]
    },
    {
     "name": "stdout",
     "output_type": "stream",
     "text": [
      "method[ GET ]======== Request =>  https://api.coinone.co.kr/trades/\n",
      "== Requset JSON ==\n",
      "{\n",
      "    \"access_token\": \"d85cd8f6-9fce-4c5f-9901-8c43fc580a76\",\n",
      "    \"currency\": \"btc\",\n",
      "    \"nonce\": 1514350329194,\n",
      "    \"period\": \"hour\"\n",
      "}\n",
      "<class 'pandas.core.frame.DataFrame'>\n",
      "RangeIndex: 1846 entries, 0 to 1845\n",
      "Data columns (total 3 columns):\n",
      "price        1846 non-null object\n",
      "qty          1846 non-null object\n",
      "timestamp    1846 non-null object\n",
      "dtypes: object(3)\n",
      "memory usage: 43.3+ KB\n"
     ]
    },
    {
     "ename": "TypeError",
     "evalue": "Can't convert 'NoneType' object to str implicitly",
     "output_type": "error",
     "traceback": [
      "\u001b[0;31m---------------------------------------------------------------------------\u001b[0m",
      "\u001b[0;31mTypeError\u001b[0m                                 Traceback (most recent call last)",
      "\u001b[0;32m<ipython-input-3-dba0b4277226>\u001b[0m in \u001b[0;36m<module>\u001b[0;34m()\u001b[0m\n\u001b[1;32m     22\u001b[0m \u001b[0;34m\u001b[0m\u001b[0m\n\u001b[1;32m     23\u001b[0m \u001b[0;32mif\u001b[0m \u001b[0m__name__\u001b[0m \u001b[0;34m==\u001b[0m \u001b[0;34m'__main__'\u001b[0m\u001b[0;34m:\u001b[0m\u001b[0;34m\u001b[0m\u001b[0m\n\u001b[0;32m---> 24\u001b[0;31m     \u001b[0mmain\u001b[0m\u001b[0;34m(\u001b[0m\u001b[0;34m)\u001b[0m\u001b[0;34m\u001b[0m\u001b[0m\n\u001b[0m\u001b[1;32m     25\u001b[0m \u001b[0;34m\u001b[0m\u001b[0m\n",
      "\u001b[0;32m<ipython-input-3-dba0b4277226>\u001b[0m in \u001b[0;36mmain\u001b[0;34m()\u001b[0m\n\u001b[1;32m     19\u001b[0m     \u001b[0minit_logger\u001b[0m\u001b[0;34m(\u001b[0m \u001b[0mpath\u001b[0m\u001b[0;34m,\u001b[0m \u001b[0mlevel\u001b[0m\u001b[0;34m,\u001b[0m \u001b[0;34m\"coinone_robot\"\u001b[0m\u001b[0;34m)\u001b[0m\u001b[0;34m\u001b[0m\u001b[0m\n\u001b[1;32m     20\u001b[0m     \u001b[0mprintLargeTitle\u001b[0m\u001b[0;34m(\u001b[0m\u001b[0;34m\"coinone robot Start!!\"\u001b[0m\u001b[0;34m)\u001b[0m\u001b[0;34m\u001b[0m\u001b[0m\n\u001b[0;32m---> 21\u001b[0;31m     \u001b[0mtrade\u001b[0m\u001b[0;34m.\u001b[0m\u001b[0mrun\u001b[0m\u001b[0;34m(\u001b[0m\u001b[0;34m)\u001b[0m\u001b[0;34m\u001b[0m\u001b[0m\n\u001b[0m\u001b[1;32m     22\u001b[0m \u001b[0;34m\u001b[0m\u001b[0m\n\u001b[1;32m     23\u001b[0m \u001b[0;32mif\u001b[0m \u001b[0m__name__\u001b[0m \u001b[0;34m==\u001b[0m \u001b[0;34m'__main__'\u001b[0m\u001b[0;34m:\u001b[0m\u001b[0;34m\u001b[0m\u001b[0m\n",
      "\u001b[0;32m/root/TRADER/modules/trade.py\u001b[0m in \u001b[0;36mrun\u001b[0;34m(self)\u001b[0m\n\u001b[1;32m     39\u001b[0m         \u001b[0mLOG\u001b[0m\u001b[0;34m.\u001b[0m\u001b[0minfo\u001b[0m\u001b[0;34m(\u001b[0m\u001b[0;34m\"start run\"\u001b[0m\u001b[0;34m)\u001b[0m\u001b[0;34m\u001b[0m\u001b[0m\n\u001b[1;32m     40\u001b[0m         \u001b[0mself\u001b[0m\u001b[0;34m.\u001b[0m\u001b[0mgetPrice\u001b[0m\u001b[0;34m(\u001b[0m\u001b[0;34m)\u001b[0m\u001b[0;34m\u001b[0m\u001b[0m\n\u001b[0;32m---> 41\u001b[0;31m         \u001b[0;31m#for i in range(5):\u001b[0m\u001b[0;34m\u001b[0m\u001b[0;34m\u001b[0m\u001b[0m\n\u001b[0m\u001b[1;32m     42\u001b[0m             \u001b[0;31m#if( self.stop == False ) :\u001b[0m\u001b[0;34m\u001b[0m\u001b[0;34m\u001b[0m\u001b[0m\n\u001b[1;32m     43\u001b[0m              \u001b[0;31m#   self.stop = True\u001b[0m\u001b[0;34m\u001b[0m\u001b[0;34m\u001b[0m\u001b[0m\n",
      "\u001b[0;32m/root/TRADER/modules/trade.py\u001b[0m in \u001b[0;36mgetPrice\u001b[0;34m(self)\u001b[0m\n\u001b[1;32m     25\u001b[0m         \u001b[0mdf\u001b[0m \u001b[0;34m=\u001b[0m \u001b[0mpd\u001b[0m\u001b[0;34m.\u001b[0m\u001b[0mDataFrame\u001b[0m\u001b[0;34m(\u001b[0m \u001b[0mresult\u001b[0m\u001b[0;34m[\u001b[0m\u001b[0;34m'completeOrders'\u001b[0m\u001b[0;34m]\u001b[0m \u001b[0;34m)\u001b[0m\u001b[0;34m\u001b[0m\u001b[0m\n\u001b[1;32m     26\u001b[0m         \u001b[0;31m#LOG.info( \"=> get reponse \" + str(df.info()) )\u001b[0m\u001b[0;34m\u001b[0m\u001b[0;34m\u001b[0m\u001b[0m\n\u001b[0;32m---> 27\u001b[0;31m \u001b[0;34m\u001b[0m\u001b[0m\n\u001b[0m\u001b[1;32m     28\u001b[0m         \u001b[0mlocal_timezone\u001b[0m \u001b[0;34m=\u001b[0m \u001b[0mtzlocal\u001b[0m\u001b[0;34m.\u001b[0m\u001b[0mget_localzone\u001b[0m\u001b[0;34m(\u001b[0m\u001b[0;34m)\u001b[0m  \u001b[0;31m# local time이 설정되어 있는 지 확인.\u001b[0m\u001b[0;34m\u001b[0m\u001b[0m\n\u001b[1;32m     29\u001b[0m         \u001b[0mdf\u001b[0m \u001b[0;34m=\u001b[0m \u001b[0mdf\u001b[0m\u001b[0;34m.\u001b[0m\u001b[0mtail\u001b[0m\u001b[0;34m(\u001b[0m\u001b[0;36m1\u001b[0m\u001b[0;34m)\u001b[0m\u001b[0;34m\u001b[0m\u001b[0m\n",
      "\u001b[0;31mTypeError\u001b[0m: Can't convert 'NoneType' object to str implicitly"
     ]
    }
   ],
   "source": [
    "#import modules.coinone as co\n",
    "import modules.trade as tr\n",
    "import pandas as pd\n",
    "import signal, os\n",
    "from modules.Logger import *\n",
    "\n",
    "trade = tr.TradeTask()\n",
    "'''\n",
    "def handler(signum, frame):\n",
    "    print('Signal handler called with signal ', signum)\n",
    "    trade.stop()\n",
    "    sys.exit(0)\n",
    "'''\n",
    "\n",
    "def main():    \n",
    "    #signal.signal(signal.SIGINT, handler)\n",
    "    level = \"debug\"\n",
    "    path = \"/root/TRADER\"\n",
    "    init_logger( path, level, \"coinone_robot\")\n",
    "    printLargeTitle(\"coinone robot Start!!\")    \n",
    "    trade.run()\n",
    "\n",
    "if __name__ == '__main__':\n",
    "    main()\n",
    "    "
   ]
  },
  {
   "cell_type": "code",
   "execution_count": null,
   "metadata": {
    "collapsed": true
   },
   "outputs": [],
   "source": []
  }
 ],
 "metadata": {
  "anaconda-cloud": {},
  "kernelspec": {
   "display_name": "Python [default]",
   "language": "python",
   "name": "python3"
  },
  "language_info": {
   "codemirror_mode": {
    "name": "ipython",
    "version": 3
   },
   "file_extension": ".py",
   "mimetype": "text/x-python",
   "name": "python",
   "nbconvert_exporter": "python",
   "pygments_lexer": "ipython3",
   "version": "3.5.2"
  }
 },
 "nbformat": 4,
 "nbformat_minor": 1
}
