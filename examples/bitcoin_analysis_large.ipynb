{
 "cells": [
  {
   "cell_type": "code",
   "execution_count": 2,
   "metadata": {
    "collapsed": false
   },
   "outputs": [
    {
     "name": "stdout",
     "output_type": "stream",
     "text": [
      "<class 'pandas.core.frame.DataFrame'>\n",
      "RangeIndex: 615988 entries, 0 to 615987\n",
      "Data columns (total 10 columns):\n",
      "Unnamed: 0    615988 non-null int64\n",
      "Date          615986 non-null object\n",
      "Open          615688 non-null float64\n",
      "High          615667 non-null float64\n",
      "Low           615715 non-null float64\n",
      "Close         615689 non-null float64\n",
      "Volume        615988 non-null object\n",
      "Market.Cap    615988 non-null object\n",
      "coin          615988 non-null object\n",
      "Delta         615674 non-null float64\n",
      "dtypes: float64(5), int64(1), object(4)\n",
      "memory usage: 47.0+ MB\n",
      "<class 'pandas.core.frame.DataFrame'>\n",
      "RangeIndex: 100 entries, 0 to 99\n",
      "Data columns (total 10 columns):\n",
      "Unnamed: 0    100 non-null int64\n",
      "Date          100 non-null object\n",
      "Open          100 non-null float64\n",
      "High          100 non-null float64\n",
      "Low           100 non-null float64\n",
      "Close         100 non-null float64\n",
      "Volume        100 non-null int64\n",
      "Market.Cap    100 non-null object\n",
      "coin          100 non-null object\n",
      "Delta         100 non-null float64\n",
      "dtypes: float64(5), int64(2), object(3)\n",
      "memory usage: 7.9+ KB\n",
      "==========end========\n"
     ]
    }
   ],
   "source": [
    "# https://www.tensorflow.org/programmers_guide/datasets\n",
    "# https://stackoverflow.com/questions/11349333/when-processing-csv-data-how-do-i-ignore-the-first-line-of-data\n",
    "# https://plot.ly/python/\n",
    "#https://plot.ly/pandas/line-and-scatter/\n",
    "import pandas as pd\n",
    "import plotly.plotly as py\n",
    "import plotly.graph_objs as go\n",
    "\n",
    "import numpy as np\n",
    "import csv\n",
    "\n",
    "#https://www.kaggle.com/valeriovaccaro/cryptocoinshistoricalprices/data\n",
    "#df = pd.read_csv('bitcoin_cash_price.csv', dtype={'Volume': np.float64})\n",
    "#https://stackoverflow.com/questions/42719749/pandas-convert-string-to-int\n",
    "df = pd.read_csv('CryptocoinsHistoricalPrices.csv', thousands=r',')\n",
    "df.info()\n",
    "\n",
    "s = df['Volume'].str.replace(',','')\n",
    "df['Volume'] = s\n",
    "df.Volume = pd.to_numeric(df.Volume, errors='coerce').fillna(0).astype(np.int64)\n",
    "\n",
    "#df['volume_rate'] = 0.\n",
    "\n",
    "#df = df.iloc[::-1] #reverse\n",
    "#print(df.dtypes)\n",
    "#print(df.head(4))\n",
    "df2 = df.head(1000)\n",
    "df2.info()\n",
    "\n",
    "volume_rate = 0.\n",
    "pre_volume = 0.\n",
    "i = 0\n",
    "'''\n",
    "for index, row in df.iterrows() :        \n",
    "    if i != 0 :         \n",
    "        if pre_volume > 0 :\n",
    "            volume_rate = ( row['Volume'] - pre_volume ) / pre_volume\n",
    "        if volume_rate > 10:\n",
    "            volume_rate = 10                \n",
    "        df.set_value(index,'volume_rate', volume_rate )        \n",
    "        pre_volume = row['Volume']        \n",
    "        #print(row['volume_rate'])\n",
    "        #print(\"i=\", i, row['Close'], row['Volume'])\n",
    "    else :\n",
    "        pre_volume = row['Volume']        \n",
    "    i = i + 1\n",
    "'''\n",
    "print(\"==========end========\")\n",
    "\n"
   ]
  },
  {
   "cell_type": "code",
   "execution_count": 3,
   "metadata": {
    "collapsed": false
   },
   "outputs": [
    {
     "data": {
      "text/html": [
       "<iframe id=\"igraph\" scrolling=\"no\" style=\"border:none;\" seamless=\"seamless\" src=\"https://plot.ly/~JasonOHH/7.embed\" height=\"525px\" width=\"100%\"></iframe>"
      ],
      "text/plain": [
       "<plotly.tools.PlotlyDisplay object>"
      ]
     },
     "execution_count": 3,
     "metadata": {},
     "output_type": "execute_result"
    }
   ],
   "source": [
    "fig = {\n",
    "    'data' : [\n",
    "        {\n",
    "            'x' : df2.Volume,\n",
    "            'y' : df2.Delta  ,\n",
    "            'text' : df2.Date,\n",
    "            'mode' : 'markers',            \n",
    "            'name' : 'test'\n",
    "        }\n",
    "    ]    ,\n",
    "    'layout' : {\n",
    "        'xaxis' : {'title': 'Volume', 'type':'log'},\n",
    "        'yaxis' : {'title': 'Delta '}\n",
    "    }\n",
    "}\n",
    "\n",
    "py.iplot(fig, filename='scatter-bitcoin')"
   ]
  },
  {
   "cell_type": "code",
   "execution_count": 4,
   "metadata": {
    "collapsed": false
   },
   "outputs": [
    {
     "data": {
      "text/html": [
       "<iframe id=\"igraph\" scrolling=\"no\" style=\"border:none;\" seamless=\"seamless\" src=\"https://plot.ly/~JasonOHH/15.embed\" height=\"525px\" width=\"100%\"></iframe>"
      ],
      "text/plain": [
       "<plotly.tools.PlotlyDisplay object>"
      ]
     },
     "execution_count": 4,
     "metadata": {},
     "output_type": "execute_result"
    }
   ],
   "source": [
    "\n",
    "data= [ \n",
    "    go.Scatter (\n",
    "        x = df2.Date,\n",
    "        y = df2.Delta  ,\n",
    "        #mode = 'markers',\n",
    "        mode = 'lines',\n",
    "        name = 'Delta '\n",
    "    ),\n",
    "    go.Scatter (\n",
    "        x = df2.Date,\n",
    "        y = df2.Volume,\n",
    "        #mode = 'markers',\n",
    "        mode = 'lines',\n",
    "        name = 'Volume'\n",
    "    )\n",
    "]\n",
    "\n",
    "py.iplot(data, filename='bitcoin-line')\n"
   ]
  },
  {
   "cell_type": "markdown",
   "metadata": {},
   "source": [
    "2017.12.22 분산 투자는 소용이 없었다. 모두 함께 오르고 내렸다.\n",
    "한번 높게 상승하면 하락이 온다.\n"
   ]
  }
 ],
 "metadata": {
  "kernelspec": {
   "display_name": "Python [default]",
   "language": "python",
   "name": "python3"
  },
  "language_info": {
   "codemirror_mode": {
    "name": "ipython",
    "version": 3
   },
   "file_extension": ".py",
   "mimetype": "text/x-python",
   "name": "python",
   "nbconvert_exporter": "python",
   "pygments_lexer": "ipython3",
   "version": "3.5.2"
  }
 },
 "nbformat": 4,
 "nbformat_minor": 2
}
