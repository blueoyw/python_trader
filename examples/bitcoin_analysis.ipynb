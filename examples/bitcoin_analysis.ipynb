{
 "cells": [
  {
   "cell_type": "code",
   "execution_count": 49,
   "metadata": {},
   "outputs": [
    {
     "name": "stdout",
     "output_type": "stream",
     "text": [
      "Date            object\n",
      "Open           float64\n",
      "High           float64\n",
      "Low            float64\n",
      "Close          float64\n",
      "Volume           int64\n",
      "Market Cap      object\n",
      "volume_rate    float64\n",
      "price_rate     float64\n",
      "dtype: object\n",
      "             Date    Open    High     Low   Close   Volume Market Cap  \\\n",
      "107  Jul 23, 2017  555.89  578.97  411.78  413.06    85013          -   \n",
      "106  Jul 24, 2017  412.58  578.89  409.21  440.70   190952          -   \n",
      "105  Jul 25, 2017  441.35  541.66  338.09  406.90   524908          -   \n",
      "104  Jul 26, 2017  407.08  486.16  321.79  365.82  1784640          -   \n",
      "\n",
      "     volume_rate  price_rate  \n",
      "107     0.000000    0.000000  \n",
      "106     1.246151    0.669152  \n",
      "105     1.748900   -0.149131  \n",
      "104     2.399910   -1.143660  \n"
     ]
    }
   ],
   "source": [
    "# https://www.tensorflow.org/programmers_guide/datasets\n",
    "# https://stackoverflow.com/questions/11349333/when-processing-csv-data-how-do-i-ignore-the-first-line-of-data\n",
    "# https://plot.ly/python/\n",
    "#https://plot.ly/pandas/line-and-scatter/\n",
    "import pandas as pd\n",
    "import plotly.plotly as py\n",
    "import plotly.graph_objs as go\n",
    "import numpy as np\n",
    "\n",
    "#df = pd.read_csv('bitcoin_cash_price.csv', dtype={'Volume': np.float64})\n",
    "df = pd.read_csv('bitcoin_cash_price.csv', thousands=r',')\n",
    "df['volume_rate'] = 0.\n",
    "df['price_rate'] = 0.\n",
    "\n",
    "df = df.iloc[::-1] #reverse\n",
    "print(df.dtypes)\n",
    "#print(df.head(4))\n",
    "volume_rate = 0.\n",
    "pre_volume = 0\n",
    "pre_price = 0\n",
    "price_rate = 0.\n",
    "i = 0\n",
    "\n",
    "for index, row in df.iterrows() :        \n",
    "    if i != 0 :                                 \n",
    "        volume_rate = ( row['Volume'] - pre_volume ) / pre_volume\n",
    "        if volume_rate > 10:\n",
    "            volume_rate = 10\n",
    "        price_rate = ( row['Close'] - pre_price ) / pre_price * 10\n",
    "        \n",
    "        df.set_value(index,'volume_rate', volume_rate )\n",
    "        df.set_value(index,'price_rate', price_rate )\n",
    "        \n",
    "        pre_volume = row['Volume']\n",
    "        price_rate = row['Close']\n",
    "        #print(row['volume_rate'])\n",
    "        #print(\"i=\", i, row['Close'], row['Volume'])\n",
    "    else :\n",
    "        pre_volume = row['Volume']\n",
    "        pre_price = row['Close']\n",
    "    i = i + 1\n",
    "#print(\"==========end========\")\n",
    "print(df.head(4))"
   ]
  },
  {
   "cell_type": "code",
   "execution_count": 43,
   "metadata": {},
   "outputs": [
    {
     "data": {
      "text/html": [
       "<iframe id=\"igraph\" scrolling=\"no\" style=\"border:none;\" seamless=\"seamless\" src=\"https://plot.ly/~JasonOHH/7.embed\" height=\"525px\" width=\"100%\"></iframe>"
      ],
      "text/plain": [
       "<plotly.tools.PlotlyDisplay object>"
      ]
     },
     "execution_count": 43,
     "metadata": {},
     "output_type": "execute_result"
    }
   ],
   "source": [
    "fig = {\n",
    "    'data' : [\n",
    "        {\n",
    "            'x' : df.volume_rate,\n",
    "            'y' : df.price_rate,\n",
    "            'text' : df.Date,\n",
    "            'mode' : 'markers',            \n",
    "            'name' : 'test'\n",
    "        }\n",
    "    ]    ,\n",
    "    'layout' : {\n",
    "        'xaxis' : {'title': 'Volume Rate', 'type':'log'},\n",
    "        'yaxis' : {'title': 'Price Rate'}\n",
    "    }\n",
    "}\n",
    "\n",
    "py.iplot(fig, filename='scatter-bitcoin')\n"
   ]
  },
  {
   "cell_type": "code",
   "execution_count": 50,
   "metadata": {},
   "outputs": [
    {
     "data": {
      "text/html": [
       "<iframe id=\"igraph\" scrolling=\"no\" style=\"border:none;\" seamless=\"seamless\" src=\"https://plot.ly/~JasonOHH/15.embed\" height=\"525px\" width=\"100%\"></iframe>"
      ],
      "text/plain": [
       "<plotly.tools.PlotlyDisplay object>"
      ]
     },
     "execution_count": 50,
     "metadata": {},
     "output_type": "execute_result"
    }
   ],
   "source": [
    "trace0 = go.Scatter (\n",
    "    x = df.Date,\n",
    "    y = df.price_rate,\n",
    "    #mode = 'markers',\n",
    "    mode = 'lines',\n",
    "    name = 'Price Rate'\n",
    ")\n",
    "\n",
    "trace1 = go.Scatter (\n",
    "    x = df.Date,\n",
    "    y = df.volume_rate,\n",
    "    #mode = 'markers',\n",
    "    mode = 'lines',\n",
    "    name = 'Volume Rate'\n",
    ")\n",
    "\n",
    "data = [trace0, trace1]\n",
    "\n",
    "py.iplot(data, filename='bitcoin-line')\n"
   ]
  },
  {
   "cell_type": "markdown",
   "metadata": {},
   "source": [
    "2017.12.22 분산 투자는 소용이 없었다. 모두 함께 오르고 내렸다.\n",
    "한번 높게 상승하면 하락이 온다.\n"
   ]
  }
 ],
 "metadata": {
  "kernelspec": {
   "display_name": "Python 3",
   "language": "python",
   "name": "python3"
  },
  "language_info": {
   "codemirror_mode": {
    "name": "ipython",
    "version": 3
   },
   "file_extension": ".py",
   "mimetype": "text/x-python",
   "name": "python",
   "nbconvert_exporter": "python",
   "pygments_lexer": "ipython3",
   "version": "3.5.4"
  }
 },
 "nbformat": 4,
 "nbformat_minor": 2
}
